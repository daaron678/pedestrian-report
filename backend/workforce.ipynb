{
 "cells": [
  {
   "cell_type": "code",
   "execution_count": 1,
   "id": "21cdfb23",
   "metadata": {},
   "outputs": [],
   "source": [
    "from arcgis.apps import workforce"
   ]
  },
  {
   "cell_type": "markdown",
   "id": "3b682d46",
   "metadata": {},
   "source": []
  }
 ],
 "metadata": {
  "kernelspec": {
   "display_name": "Python (arcgispro-py3)",
   "language": "python",
   "name": "arcgispro-py3"
  },
  "language_info": {
   "codemirror_mode": {
    "name": "ipython",
    "version": 3
   },
   "file_extension": ".py",
   "mimetype": "text/x-python",
   "name": "python",
   "nbconvert_exporter": "python",
   "pygments_lexer": "ipython3",
   "version": "3.11.10"
  }
 },
 "nbformat": 4,
 "nbformat_minor": 5
}
